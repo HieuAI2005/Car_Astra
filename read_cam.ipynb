{
 "cells": [
  {
   "cell_type": "code",
   "execution_count": 1,
   "id": "8d3a28b9-2292-46a2-8004-bc024ae22971",
   "metadata": {},
   "outputs": [],
   "source": [
    "from astra_camera import Camera\n",
    "import cv2\n",
    "import numpy as np\n",
    "import matplotlib.pyplot as plt\n",
    "from ultralytics import YOLO"
   ]
  },
  {
   "cell_type": "code",
   "execution_count": 2,
   "id": "4d281734-f4dd-47e6-aaf8-97e12c58a59b",
   "metadata": {},
   "outputs": [],
   "source": [
    "model = YOLO('yolo/best.pt')"
   ]
  },
  {
   "cell_type": "code",
   "execution_count": 3,
   "id": "c3f18a3a-a0bb-4f2a-a653-7f45547ac394",
   "metadata": {},
   "outputs": [],
   "source": [
    "cam = Camera()"
   ]
  },
  {
   "cell_type": "code",
   "execution_count": null,
   "id": "a341e03f-fbd4-47ce-934e-68c3d8168a1d",
   "metadata": {
    "scrolled": true
   },
   "outputs": [],
   "source": [
    "'''\n",
    "image 480x640 (y, x)\n",
    "'''\n",
    "model.to('cuda')\n",
    "center_point = (0, 320)\n",
    "try:\n",
    "    while True:\n",
    "        depth, rgb = cam.get_depth_and_color()\n",
    "        rgb = cv2.cvtColor(rgb, cv2.COLOR_RGB2BGR)\n",
    "        output = model.predict(rgb,verbose = False) \n",
    "        boxes = output[0].boxes\n",
    "        detection = []\n",
    "        cls = []\n",
    "        clearly = float('inf')\n",
    "        for box in boxes:\n",
    "            x1, y1, x2, y2 = map(int, box.xyxy[0].cpu().numpy()) \n",
    "            cls_id = int(box.cls[0].cpu().item())\n",
    "            label = output[0].names[cls_id]\n",
    "            conf = float(box.conf.cpu().item())\n",
    "            if conf < 0.7: continue\n",
    "            if label == 'person':\n",
    "                x_mid, y_mid = (x1+x2)/2, (y1 +y2)/2 \n",
    "                line = ((x_mid - center_point[1])**2 + (y_mid - center_point[0])**2)**0.5\n",
    "                if line < clearly:\n",
    "                    clearly = line\n",
    "                    detection = [(x1, y1, x2, y2)]\n",
    "                cls.append((x1, y1, x2, y2))\n",
    "            #cv2.rectangle(rgb, (x1, y1), (x2, y2), (0, 255, 0), 2)\n",
    "            #cv2.putText(rgb, label, (x1, y1), cv2.FONT_HERSHEY_SIMPLEX, 1, (0, 255, 0), 3, cv2.LINE_AA)\n",
    "        if detection: \n",
    "            x1, y1, x2, y2 = detection[0]\n",
    "            for x, y, h, w in cls:\n",
    "                if x != x1 and y != y1 and h != x2 and w != y2: \n",
    "                    cv2.rectangle(rgb, (x, y), (h, w), (0, 255, 0), 2)\n",
    "                    cv2.putText(rgb, \"person\", (x, y), cv2.FONT_HERSHEY_SIMPLEX, 1, (0, 255, 0), 3, cv2.LINE_AA)\n",
    "            cv2.rectangle(rgb, (x1, y1), (x2, y2), (255, 0, 0), 2)\n",
    "            cv2.putText(rgb, label, (x1, y1), cv2.FONT_HERSHEY_SIMPLEX, 1, (255, 0, 0), 3, cv2.LINE_AA)\n",
    "            x_mid, y_mid = (x1+x2)/2, (y1 +y2)/2 \n",
    "            cv2.circle(rgb, (int(x_mid), int(y_mid)), radius = 3, color = (0, 0, 255), thickness= 2)\n",
    "            distance = ((x_mid - center_point[1])**2 + (y_mid - center_point[0])**2)**0.5\n",
    "            #angle = np.degrees(np.arctan((x_mid - center_point[1])/(y_mid - center_point[0]))) + 90\n",
    "            if abs(x_mid - center_point[1]) > 50:\n",
    "                if x_mid - center_point[1] > 0: \n",
    "                    angle = 'right'\n",
    "                else:\n",
    "                    angle = 'left' \n",
    "            else: angle = 'center'\n",
    "        else:\n",
    "            distance = 0\n",
    "            angle = 'center'\n",
    "        print(distance, angle)\n",
    "        cv2.circle(rgb, (center_point[1], 480), radius = 3, color = (0, 0, 255), thickness = 2)\n",
    "        cv2.imshow('rgb', rgb)\n",
    "        cv2.imshow('depth', depth)\n",
    "        key = cv2.waitKey(1)\n",
    "        if key == 27:\n",
    "            cv2.destroyAllWindows();\n",
    "            break\n",
    "except Exception as e:\n",
    "    print(e)\n",
    "    cam.unload()"
   ]
  },
  {
   "cell_type": "code",
   "execution_count": null,
   "id": "c24444c4-d315-4102-bf3a-f8a35cfd2852",
   "metadata": {},
   "outputs": [],
   "source": []
  }
 ],
 "metadata": {
  "kernelspec": {
   "display_name": "Python 3 (ipykernel)",
   "language": "python",
   "name": "python3"
  },
  "language_info": {
   "codemirror_mode": {
    "name": "ipython",
    "version": 3
   },
   "file_extension": ".py",
   "mimetype": "text/x-python",
   "name": "python",
   "nbconvert_exporter": "python",
   "pygments_lexer": "ipython3",
   "version": "3.10.12"
  }
 },
 "nbformat": 4,
 "nbformat_minor": 5
}
